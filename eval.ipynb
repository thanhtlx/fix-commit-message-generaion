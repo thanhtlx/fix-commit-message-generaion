{
 "cells": [
  {
   "cell_type": "code",
   "execution_count": null,
   "metadata": {},
   "outputs": [],
   "source": [
    "# precs, recall (stem)\n",
    "# rougle, meteor, bleu 4, EM, "
   ]
  },
  {
   "cell_type": "code",
   "execution_count": 3,
   "metadata": {},
   "outputs": [
    {
     "name": "stdout",
     "output_type": "stream",
     "text": [
      "1\n"
     ]
    },
    {
     "name": "stderr",
     "output_type": "stream",
     "text": [
      "Total: 3040\n",
      "Total: 3040\n"
     ]
    },
    {
     "name": "stdout",
     "output_type": "stream",
     "text": [
      "3040\n",
      "3040\n",
      "Meteor: 16.99408145616588\n",
      "ROUGE: 24.628769788084607\n",
      " EM = 4.013 \n",
      " precs = 33.907 \n",
      "  bleu-4 = 22.782 \n",
      "  bleu-normal = 22.782 \n"
     ]
    }
   ],
   "source": [
    "import os\n",
    "import numpy as np\n",
    "from pycocoevalcap.meteor.meteor import Meteor\n",
    "from pycocoevalcap.rouge.rouge import Rouge\n",
    "from pycocoevalcap.cider.cider import  Cider\n",
    "import bleu\n",
    "\n",
    "def calc_prec(pred, tgt):\n",
    "    prds = pred.split()\n",
    "    tgs = tgt.split()\n",
    "    count = 0 \n",
    "    for prd in prds:\n",
    "        if prd in tgs:\n",
    "            count += 1\n",
    "    return count/ len(prds)\n",
    "\n",
    "def cal_metrics(index):\n",
    "    prd_dir = os.path.join(f'{output_dir}',f'test.output')\n",
    "    gold_dir = os.path.join(f'{output_dir}',f'test.gold')\n",
    "    # prd_dir = os.path.join(f'{output_dir}','test_best-bleu.output')\n",
    "    # gold_dir = os.path.join(f'{output_dir}','test_best-bleu.gold')\n",
    "\n",
    "    # prd_dir = os.path.join(f'{output_dir}','preds.txt')\n",
    "    # gold_dir = os.path.join(f'{output_dir}','msg.txt')\n",
    "    # prd_dir = os.path.join(f'{output_dir}','test_0.output')\n",
    "    # gold_dir = os.path.join(f'{output_dir}','test_0.gold')\n",
    "    # prd_dir = os.path.join(f'{output_dir}','test.output')\n",
    "    # gold_dir = os.path.join(f'{output_dir}','test.gold')\n",
    "    predictions = list()\n",
    "    golds = list()\n",
    "    \n",
    "    with open(prd_dir) as f:\n",
    "        predictions =  [line.strip() for line in f.readlines()]\n",
    "    with open(gold_dir) as f:\n",
    "        golds =  [line.strip() for line in f.readlines()]\n",
    "    # with open(prd_dir) as f:\n",
    "    #     predictions =  [str(i)+ '\\t' + line.strip() for i,line in enumerate(f.readlines())]\n",
    "    # with open(gold_dir) as f:\n",
    "    #     golds =  [str(i)+ '\\t' + line.strip() for i,line in enumerate(f.readlines())]\n",
    "    tmp_file= 'tmpgold.txt'\n",
    "    with open(tmp_file,'w+') as f:\n",
    "        f.write('\\n'.join(golds))\n",
    "    \n",
    "    EM = list()\n",
    "    precs = list()\n",
    "    for i, (ref, gold) in enumerate(zip(predictions, golds)):\n",
    "        EM.append(ref.split() == gold.split())\n",
    "        precs.append(calc_prec(ref,gold))\n",
    "    (goldMap, predictionMap) = bleu.computeMaps(\n",
    "        predictions, tmp_file)\n",
    "    dev_bleu = round(bleu.bleuFromMaps(goldMap, predictionMap)[0], 3)\n",
    "    (goldMap2, predictionMap2) = bleu.computeMaps(\n",
    "        predictions, tmp_file)\n",
    "    dev_bleu2 = round(bleu.bleuFromMaps(goldMap2, predictionMap2)[0], 3)\n",
    "    EM = round(np.mean(EM)*100, 3)\n",
    "    precs = round(np.mean(precs)*100, 3)\n",
    "    res = {k: [' '.join(v.split('\\t')[1:]).strip().lower()] for k, v in enumerate(predictions)}\n",
    "    tgt = {k: [' '.join(v.split('\\t')[1:]).strip().lower()] for k, v in enumerate(golds)}\n",
    "    \n",
    "    # precision 1-gram\n",
    "    print(len(res))\n",
    "    print(len(tgt))\n",
    "    score_Meteor, scores_Meteor = Meteor().compute_score(tgt, res)\n",
    "    print(\"Meteor: %s\" % (float(score_Meteor)*100))\n",
    "    score_Rouge, scores_Rouge = Rouge().compute_score(tgt, res)\n",
    "    print(\"ROUGE: %s\" % (float(score_Rouge)*100))\n",
    "    print(\" %s = %s \" % (\"EM\", str(EM)))\n",
    "    print(\" %s = %s \" % (\"precs\", str(precs)))\n",
    "    print(\"  %s = %s \" % (\"bleu-4\", str(dev_bleu)))\n",
    "    print(\"  %s = %s \" % (\"bleu-normal\", str(dev_bleu2)))\n",
    "    os.remove(tmp_file)\n",
    "tt = 't1002'\n",
    "# output_dir = 'change_size_stt'\n",
    "output_dir = 'output/commitbart'\n",
    "for i in range(1,2):\n",
    "    print(i)\n",
    "    cal_metrics(i)\n",
    "!for pid in $(ps -ef | grep meteor | awk {'print $2'}); do kill -9 $pid; done"
   ]
  },
  {
   "cell_type": "code",
   "execution_count": null,
   "metadata": {},
   "outputs": [],
   "source": [
    "# recall presc"
   ]
  },
  {
   "cell_type": "code",
   "execution_count": 4,
   "metadata": {},
   "outputs": [],
   "source": [
    "cache_stem = dict()\n",
    "from nltk.stem import PorterStemmer\n",
    "from nltk.tokenize import word_tokenize\n",
    "ps = PorterStemmer()\n",
    "import pandas as pd \n",
    "with open(f'{output_dir}/test.output') as f:\n",
    "    out = [l.strip() for l in f.readlines()]\n",
    "with open(f'{output_dir}/test.gold') as f:\n",
    "    gold = [l.strip() for l in f.readlines()]"
   ]
  },
  {
   "cell_type": "code",
   "execution_count": 16,
   "metadata": {},
   "outputs": [],
   "source": [
    "def preprocess(sentence):\n",
    "    sentence = sentence.lower()\n",
    "    sentence = [ps.stem(l) for l in sentence.split()]\n",
    "    print(sentence)\n",
    "    return sentence\n",
    "def calc(ref,pred):\n",
    "    ref = preprocess(ref)\n",
    "    pred = preprocess(pred)\n",
    "    inter = set(ref).intersection(set(pred))\n",
    "    recall = len(inter) / len(ref)\n",
    "    precs = len(inter) / len(pred)\n",
    "    # doan dung / tong so dung recal\n",
    "    # doan dung / tong so doan prec\n",
    "    return recall, precs\n",
    "# read "
   ]
  },
  {
   "cell_type": "code",
   "execution_count": 7,
   "metadata": {},
   "outputs": [],
   "source": [
    "df = pd.DataFrame()\n",
    "df['out'] = out \n",
    "df['ref'] = gold"
   ]
  },
  {
   "cell_type": "code",
   "execution_count": null,
   "metadata": {},
   "outputs": [],
   "source": [
    "recalls = list()\n",
    "precisions = list()\n",
    "for _,row in df.iterrows():\n",
    "    r,p = calc(row['ref'],row['out'])\n",
    "    recalls.append(r)\n",
    "    precisions.append(p)\n",
    "df['recall'] = recalls\n",
    "df['precision'] = precisions"
   ]
  },
  {
   "cell_type": "code",
   "execution_count": 53,
   "metadata": {},
   "outputs": [
    {
     "data": {
      "text/plain": [
       "3040"
      ]
     },
     "execution_count": 53,
     "metadata": {},
     "output_type": "execute_result"
    }
   ],
   "source": [
    "import json\n",
    "codes = list()\n",
    "file_old = list()\n",
    "file_new = list()\n",
    "cms = list()\n",
    "repos = list()\n",
    "with open('test.jsonl') as f:\n",
    "    for l in f.readlines()[:3040]:\n",
    "        data = json.loads(l.strip())\n",
    "        msg = data['message']\n",
    "        cms.append(data['commit_id'])\n",
    "        # repos.append(data['repo'])\n",
    "        \n",
    "        code = list()\n",
    "        old = list()\n",
    "        new = list()\n",
    "        for diff in data['diffs']:\n",
    "            old.append(diff['negative_changed_file_name'])\n",
    "            new.append(diff['positive_changed_file_name'])\n",
    "            for chunk in diff['chunks']:\n",
    "                code.append(chunk['chunk_str'])\n",
    "        codes.append('\\n'.join(code))\n",
    "        file_old.append('\\n'.join(old))\n",
    "        file_new.append('\\n'.join(new))\n",
    "len(codes)"
   ]
  },
  {
   "cell_type": "code",
   "execution_count": 55,
   "metadata": {},
   "outputs": [],
   "source": [
    "df['code'] = codes\n",
    "df['file_new'] = file_new\n",
    "df['file_old'] = file_old\n",
    "df['commit_id'] = cms\n",
    "# df['repo'] = repos"
   ]
  },
  {
   "cell_type": "code",
   "execution_count": 37,
   "metadata": {},
   "outputs": [],
   "source": [
    "df.to_excel('result.xlsx')"
   ]
  },
  {
   "cell_type": "code",
   "execution_count": 38,
   "metadata": {},
   "outputs": [
    {
     "data": {
      "text/plain": [
       "(0.3615022193230006, 0.3643810049862839)"
      ]
     },
     "execution_count": 38,
     "metadata": {},
     "output_type": "execute_result"
    }
   ],
   "source": [
    "sum(df['recall'])/ df.shape[0], sum(df['precision'])/ df.shape[0]"
   ]
  }
 ],
 "metadata": {
  "kernelspec": {
   "display_name": "env",
   "language": "python",
   "name": "python3"
  },
  "language_info": {
   "codemirror_mode": {
    "name": "ipython",
    "version": 3
   },
   "file_extension": ".py",
   "mimetype": "text/x-python",
   "name": "python",
   "nbconvert_exporter": "python",
   "pygments_lexer": "ipython3",
   "version": "3.6.4"
  },
  "orig_nbformat": 4
 },
 "nbformat": 4,
 "nbformat_minor": 2
}
