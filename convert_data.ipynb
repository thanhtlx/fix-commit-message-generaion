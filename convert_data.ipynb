{
 "cells": [
  {
   "cell_type": "code",
   "execution_count": 1,
   "metadata": {},
   "outputs": [],
   "source": [
    "import pandas as pd \n",
    "df = pd.read_csv('fix_db.csv',low_memory=False)"
   ]
  },
  {
   "cell_type": "code",
   "execution_count": 2,
   "metadata": {},
   "outputs": [
    {
     "data": {
      "text/plain": [
       "(15229, 12)"
      ]
     },
     "execution_count": 2,
     "metadata": {},
     "output_type": "execute_result"
    }
   ],
   "source": [
    "df0 = df.drop_duplicates(subset=['commit_id'])\n",
    "df0.shape"
   ]
  },
  {
   "cell_type": "code",
   "execution_count": null,
   "metadata": {},
   "outputs": [],
   "source": [
    "# for _,row in df0.iterrows():\n",
    "#     cm = row['label'].splitlines()[0]\n",
    "#     if len(cm.split()) <= 1:\n",
    "#         print(cm,row['local'],row['commit_id'])"
   ]
  },
  {
   "cell_type": "code",
   "execution_count": 4,
   "metadata": {},
   "outputs": [
    {
     "data": {
      "text/plain": [
       "15229"
      ]
     },
     "execution_count": 4,
     "metadata": {},
     "output_type": "execute_result"
    }
   ],
   "source": [
    "result = list()\n",
    "for cm in set(df['commit_id']):\n",
    "    # cm \n",
    "    tmp = dict()\n",
    "    message = ''\n",
    "    summary = ''\n",
    "    project = ''\n",
    "    language = 'C'\n",
    "    diffs = list()\n",
    "    for _, row in df[df['commit_id']==cm].iterrows():\n",
    "        tmp_diff = dict()\n",
    "        if isinstance(row['new_path_file'],str):\n",
    "            tmp_diff['positive_changed_file_name'] = row['new_path_file']\n",
    "        else:\n",
    "            if isinstance(row['old_path_file'],str):\n",
    "                tmp_diff['positive_changed_file_name'] = row['old_path_file']\n",
    "            else:\n",
    "                tmp_diff['positive_changed_file_name'] = ''\n",
    "        if isinstance(row['old_path_file'],str):\n",
    "            tmp_diff['negative_changed_file_name'] = row['old_path_file']\n",
    "        else:\n",
    "            tmp_diff['negative_changed_file_name'] = tmp_diff['positive_changed_file_name']\n",
    "        chunks = list()\n",
    "        positive_changes = list()\n",
    "        negative_changes = list()\n",
    "        chunk_list = list()\n",
    "        for line in row['diff'].splitlines():\n",
    "            if line.startswith('+'):\n",
    "                positive_changes.append(line[1:])\n",
    "                chunk_list.append(line[1:])\n",
    "            elif line.startswith('-'):\n",
    "                negative_changes.append(line[1:])\n",
    "                chunk_list.append(line[1:])\n",
    "            else:\n",
    "                if len(chunk_list) > 0:\n",
    "                    chunks.append({'positive_changes':positive_changes,'negative_changes':negative_changes,'chunk_str':'\\n'.join(chunk_list)})\n",
    "                    chunk_list = list()\n",
    "                    positive_changes = list()\n",
    "                    negative_changes = list()\n",
    "        tmp_diff['chunks'] = chunks\n",
    "        diffs.append(tmp_diff)\n",
    "        \n",
    "        if len(project) <= 0:\n",
    "            project = row['local'].split('/')[-1]\n",
    "            message = row['label'].splitlines()[0]\n",
    "            summary = message\n",
    "    if len(message) > 0:\n",
    "        result.append({\n",
    "            'commit_id': cm,\n",
    "            'message':message,\n",
    "            'summary': summary,\n",
    "            'language': language,\n",
    "            'diffs' : diffs,\n",
    "            'repo' : project\n",
    "        })\n",
    "len(result)"
   ]
  },
  {
   "cell_type": "code",
   "execution_count": 6,
   "metadata": {},
   "outputs": [],
   "source": [
    "import json\n",
    "cms = list()\n",
    "with open('test.jsonl') as f:\n",
    "    for l in f.readlines():\n",
    "        data = json.loads(l.strip())\n",
    "        cm = data['commit_id']\n",
    "        cms.append(cm)"
   ]
  },
  {
   "cell_type": "code",
   "execution_count": 7,
   "metadata": {},
   "outputs": [
    {
     "name": "stdout",
     "output_type": "stream",
     "text": [
      "12183 3046\n"
     ]
    }
   ],
   "source": [
    "test = list()\n",
    "train = list()\n",
    "for el in result:\n",
    "    if el['commit_id'] in cms:\n",
    "        test.append(el)\n",
    "    else:\n",
    "        train.append(el)\n",
    "print(len(train),len(test))"
   ]
  },
  {
   "cell_type": "code",
   "execution_count": 18,
   "metadata": {},
   "outputs": [
    {
     "data": {
      "text/plain": [
       "12183.2"
      ]
     },
     "execution_count": 18,
     "metadata": {},
     "output_type": "execute_result"
    }
   ],
   "source": [
    "15229 * 0.8"
   ]
  },
  {
   "cell_type": "code",
   "execution_count": 50,
   "metadata": {},
   "outputs": [],
   "source": [
    "train, test = result[:12183], result[12183:]"
   ]
  },
  {
   "cell_type": "code",
   "execution_count": 20,
   "metadata": {},
   "outputs": [],
   "source": [
    "import gzip, codecs\n",
    "def save_to_jsonl_gz(file_name, functions):\n",
    "    with gzip.GzipFile(file_name, 'wb') as out_file:\n",
    "        writer = codecs.getwriter('utf-8')\n",
    "        for entry in functions:\n",
    "            writer(out_file).write(json.dumps(entry))\n",
    "            writer(out_file).write('\\n')"
   ]
  },
  {
   "cell_type": "code",
   "execution_count": 51,
   "metadata": {},
   "outputs": [],
   "source": [
    "save_to_jsonl_gz('train.jsonl.gz',train)\n",
    "save_to_jsonl_gz('test.jsonl.gz',test)"
   ]
  },
  {
   "cell_type": "code",
   "execution_count": null,
   "metadata": {},
   "outputs": [],
   "source": [
    "for el0 in result:\n",
    "    # print(el['message'])\n",
    "    for el in el0['diffs']:\n",
    "        print(el['positive_changed_file_name'],el['negative_changed_file_name'])"
   ]
  }
 ],
 "metadata": {
  "kernelspec": {
   "display_name": "env",
   "language": "python",
   "name": "python3"
  },
  "language_info": {
   "codemirror_mode": {
    "name": "ipython",
    "version": 3
   },
   "file_extension": ".py",
   "mimetype": "text/x-python",
   "name": "python",
   "nbconvert_exporter": "python",
   "pygments_lexer": "ipython3",
   "version": "3.6.4"
  },
  "orig_nbformat": 4
 },
 "nbformat": 4,
 "nbformat_minor": 2
}
