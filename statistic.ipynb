{
 "cells": [
  {
   "cell_type": "code",
   "execution_count": 1,
   "metadata": {},
   "outputs": [],
   "source": [
    "import pandas as pd \n",
    "df = pd.read_csv('diff_msg.csv')"
   ]
  },
  {
   "cell_type": "code",
   "execution_count": 19,
   "metadata": {},
   "outputs": [
    {
     "data": {
      "text/plain": [
       "(15229, 4)"
      ]
     },
     "execution_count": 19,
     "metadata": {},
     "output_type": "execute_result"
    }
   ],
   "source": [
    "df.shape"
   ]
  },
  {
   "cell_type": "code",
   "execution_count": null,
   "metadata": {},
   "outputs": [],
   "source": [
    "df.head(5)"
   ]
  },
  {
   "cell_type": "code",
   "execution_count": 5,
   "metadata": {},
   "outputs": [
    {
     "data": {
      "text/plain": [
       "['Fix scripts and code that use well-known tmp files.',\n",
       " 'kdfa: use openssl for hmac not tpm',\n",
       " \"don't mix up int and size_t (first pass to fix that)\",\n",
       " 'Issue 4609 - CVE - info disclosure when authenticating',\n",
       " 'Issue 4480 - Unexpected info returned to ldap request (#4491)',\n",
       " '5.6.1.4: Use in-memory archive instead of file IO',\n",
       " \"daemon: use libreport's function checking file name\",\n",
       " 'a-a-i-d-to-abrt-cache: make own random temporary directory',\n",
       " 'ccpp: do not read data from root directories',\n",
       " 'dbus: validate parameters of all calls']"
      ]
     },
     "execution_count": 5,
     "metadata": {},
     "output_type": "execute_result"
    }
   ],
   "source": [
    "msg  = list(df['message'])\n",
    "msg = [el.splitlines()[0] for el in msg]\n",
    "msg[:10]"
   ]
  },
  {
   "cell_type": "code",
   "execution_count": 18,
   "metadata": {},
   "outputs": [
    {
     "name": "stdout",
     "output_type": "stream",
     "text": [
      "95 1 7.35898614485521\n"
     ]
    }
   ],
   "source": [
    "len_ms = [len(el.split()) for el in msg]\n",
    "print(max(len_ms),min(len_ms),sum(len_ms)/len(len_ms))\n",
    "len_ms2 = [el for el in len_ms if el <= 30 and el >= 3]"
   ]
  },
  {
   "cell_type": "code",
   "execution_count": 7,
   "metadata": {},
   "outputs": [
    {
     "data": {
      "text/plain": [
       "0.9789217939457614"
      ]
     },
     "execution_count": 7,
     "metadata": {},
     "output_type": "execute_result"
    }
   ],
   "source": [
    "len(len_ms2) / len(len_ms)"
   ]
  },
  {
   "cell_type": "code",
   "execution_count": 12,
   "metadata": {},
   "outputs": [
    {
     "data": {
      "image/png": "[encoded data removed]",
      "text/plain": [
       "<Figure size 432x288 with 1 Axes>"
      ]
     },
     "metadata": {
      "needs_background": "light"
     },
     "output_type": "display_data"
    },
    {
     "data": {
      "text/plain": [
       "<Figure size 64000x128000 with 0 Axes>"
      ]
     },
     "metadata": {},
     "output_type": "display_data"
    }
   ],
   "source": [
    "import numpy as np\n",
    "import matplotlib.pyplot as plt\n",
    "n, bins, patches = plt.hist(len_ms2,bins=30)\n",
    "from matplotlib.pyplot import figure\n",
    "\n",
    "figure(figsize=(80, 160), dpi=800)\n",
    "plt.show()"
   ]
  },
  {
   "cell_type": "code",
   "execution_count": 13,
   "metadata": {},
   "outputs": [],
   "source": [
    "copus = ' '.join(msg)"
   ]
  },
  {
   "cell_type": "code",
   "execution_count": 14,
   "metadata": {},
   "outputs": [],
   "source": [
    "copus = copus.split()"
   ]
  },
  {
   "cell_type": "code",
   "execution_count": 15,
   "metadata": {},
   "outputs": [
    {
     "data": {
      "text/plain": [
       "['Fix',\n",
       " 'scripts',\n",
       " 'and',\n",
       " 'code',\n",
       " 'that',\n",
       " 'use',\n",
       " 'well-known',\n",
       " 'tmp',\n",
       " 'files.',\n",
       " 'kdfa:']"
      ]
     },
     "execution_count": 15,
     "metadata": {},
     "output_type": "execute_result"
    }
   ],
   "source": [
    "copus[:10]"
   ]
  },
  {
   "cell_type": "code",
   "execution_count": null,
   "metadata": {},
   "outputs": [],
   "source": [
    "\n",
    "from collections import Counter\n",
    "\n",
    "res = Counter(copus)\n",
    "# print(str(res))\n",
    "\n",
    "for k,v in res.most_common():\n",
    "    print(k,'\\t',v)"
   ]
  },
  {
   "cell_type": "code",
   "execution_count": 20,
   "metadata": {},
   "outputs": [
    {
     "data": {
      "text/plain": [
       "23085"
      ]
     },
     "execution_count": 20,
     "metadata": {},
     "output_type": "execute_result"
    }
   ],
   "source": [
    "len(set(copus))"
   ]
  }
 ],
 "metadata": {
  "kernelspec": {
   "display_name": "env",
   "language": "python",
   "name": "python3"
  },
  "language_info": {
   "codemirror_mode": {
    "name": "ipython",
    "version": 3
   },
   "file_extension": ".py",
   "mimetype": "text/x-python",
   "name": "python",
   "nbconvert_exporter": "python",
   "pygments_lexer": "ipython3",
   "version": "3.6.4"
  },
  "orig_nbformat": 4
 },
 "nbformat": 4,
 "nbformat_minor": 2
}
